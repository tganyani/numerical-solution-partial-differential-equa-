{
 "cells": [
  {
   "cell_type": "code",
   "execution_count": 1,
   "id": "38ad3bf6",
   "metadata": {},
   "outputs": [],
   "source": [
    "import numpy as np"
   ]
  },
  {
   "cell_type": "code",
   "execution_count": 75,
   "id": "d8ac9224",
   "metadata": {},
   "outputs": [],
   "source": [
    "A = np.array([\n",
    "    [26, -9, -8, 8],\n",
    "    [9, -21, -2, 8],\n",
    "    [-3, 2, -18, 8],\n",
    "    [1, -6, -1, 11]\n",
    "])\n",
    "\n",
    "b = np.array([20, -164, 140, -81])"
   ]
  },
  {
   "cell_type": "code",
   "execution_count": 107,
   "id": "3842f2ca",
   "metadata": {},
   "outputs": [],
   "source": [
    "def Jakobi(A, b, eps, x0):\n",
    "    diag = np.diag(A)\n",
    "    C = - A / diag.reshape(len(A), 1)\n",
    "    np.fill_diagonal(C, 0)\n",
    "    \n",
    "    for i in range(len(A)):\n",
    "        if abs(A[i, i]) <= np.sum(abs(A[i])) - abs(A[i, i]):\n",
    "            return \"Диагональное преобладание не выполняется\"\n",
    "    count = 1\n",
    "    x1 = np.dot(C, x0) + b / diag\n",
    "    while np.linalg.norm(C, ord=np.inf) / (1 - np.linalg.norm(C, ord=np.inf)) * np.linalg.norm(x1 - x0) > eps:\n",
    "        x0 = x1\n",
    "        x1 = np.dot(C, x0) + b / diag\n",
    "        count += 1\n",
    "    \n",
    "    return x1, count\n",
    "    "
   ]
  },
  {
   "cell_type": "code",
   "execution_count": 109,
   "id": "056d9614",
   "metadata": {},
   "outputs": [
    {
     "data": {
      "text/plain": [
       "(array([ 1.99999925,  8.00000083, -8.99999986, -4.00000072]), 49)"
      ]
     },
     "execution_count": 109,
     "metadata": {},
     "output_type": "execute_result"
    }
   ],
   "source": [
    "x0 = np.array([1, 1, 1, 1])\n",
    "Jakobi(A, b, 0.0001, x0)"
   ]
  }
 ],
 "metadata": {
  "kernelspec": {
   "display_name": "Python 3 (ipykernel)",
   "language": "python",
   "name": "python3"
  },
  "language_info": {
   "codemirror_mode": {
    "name": "ipython",
    "version": 3
   },
   "file_extension": ".py",
   "mimetype": "text/x-python",
   "name": "python",
   "nbconvert_exporter": "python",
   "pygments_lexer": "ipython3",
   "version": "3.8.5"
  }
 },
 "nbformat": 4,
 "nbformat_minor": 5
}
